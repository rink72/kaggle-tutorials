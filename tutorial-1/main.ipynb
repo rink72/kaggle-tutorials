{
 "cells": [
  {
   "cell_type": "markdown",
   "metadata": {},
   "source": [
    "# Tutorial 1\n",
    "\n",
    "Tutorial from https://www.kaggle.com/dansbecker/your-first-machine-learning-model/tutorial\n",
    "\n",
    "This is just teaching a basic decision tree model with no validation etc"
   ]
  },
  {
   "cell_type": "markdown",
   "metadata": {},
   "source": [
    "## Import data\n",
    "\n",
    "First stage imports data and does some very rough cleaning by dropping houses missing any data\n",
    "\n",
    "We also set the feature data `X` and the target we are trying to predict `y`"
   ]
  },
  {
   "cell_type": "code",
   "execution_count": 26,
   "metadata": {},
   "outputs": [
    {
     "name": "stdout",
     "output_type": "stream",
     "text": [
      "             Rooms     Bathroom      Landsize    Lattitude   Longtitude\n",
      "count  6196.000000  6196.000000   6196.000000  6196.000000  6196.000000\n",
      "mean      2.931407     1.576340    471.006940   -37.807904   144.990201\n",
      "std       0.971079     0.711362    897.449881     0.075850     0.099165\n",
      "min       1.000000     1.000000      0.000000   -38.164920   144.542370\n",
      "25%       2.000000     1.000000    152.000000   -37.855438   144.926198\n",
      "50%       3.000000     1.000000    373.000000   -37.802250   144.995800\n",
      "75%       4.000000     2.000000    628.000000   -37.758200   145.052700\n",
      "max       8.000000     8.000000  37000.000000   -37.457090   145.526350\n",
      "   Rooms  Bathroom  Landsize  Lattitude  Longtitude\n",
      "1      2       1.0     156.0   -37.8079    144.9934\n",
      "2      3       2.0     134.0   -37.8093    144.9944\n",
      "4      4       1.0     120.0   -37.8072    144.9941\n",
      "6      3       2.0     245.0   -37.8024    144.9993\n",
      "7      2       1.0     256.0   -37.8060    144.9954\n"
     ]
    }
   ],
   "source": [
    "import pandas as pd\n",
    "import os\n",
    "\n",
    "# Import data\n",
    "melbourne_file_path = \"./input/melb_data.csv\"\n",
    "melbourne_data = pd.read_csv(melbourne_file_path) \n",
    "melbourne_data.columns\n",
    "\n",
    "# Rough cleaning (drop any houses with missing data)\n",
    "melbourne_data = melbourne_data.dropna(axis=0)\n",
    "\n",
    "# Select features to use\n",
    "melbourne_features = ['Rooms', 'Bathroom', 'Landsize', 'Lattitude', 'Longtitude']\n",
    "\n",
    "# Filter to only data we want to use\n",
    "X = melbourne_data[melbourne_features]\n",
    "y = melbourne_data.Price\n",
    "\n",
    "# Output summary\n",
    "print(X.describe())\n",
    "print(X.head())\n"
   ]
  },
  {
   "cell_type": "markdown",
   "metadata": {},
   "source": [
    "## Building model\n",
    "\n",
    "Here we start to build a decision tree model for the data"
   ]
  },
  {
   "cell_type": "code",
   "execution_count": 27,
   "metadata": {},
   "outputs": [
    {
     "data": {
      "text/plain": [
       "DecisionTreeRegressor(random_state=1)"
      ]
     },
     "execution_count": 27,
     "metadata": {},
     "output_type": "execute_result"
    }
   ],
   "source": [
    "from sklearn.tree import DecisionTreeRegressor\n",
    "\n",
    "melbourne_model = DecisionTreeRegressor(random_state=1)\n",
    "\n",
    "melbourne_model.fit(X, y)"
   ]
  },
  {
   "cell_type": "markdown",
   "metadata": {},
   "source": [
    "## Use the model\n",
    "\n",
    "We can now use the model to predict housing prices for some entries"
   ]
  },
  {
   "cell_type": "code",
   "execution_count": 28,
   "metadata": {},
   "outputs": [
    {
     "name": "stdout",
     "output_type": "stream",
     "text": [
      "Making predictions for these houses:\n",
      "   Rooms  Bathroom  Landsize  Lattitude  Longtitude\n",
      "1      2       1.0     156.0   -37.8079    144.9934\n",
      "2      3       2.0     134.0   -37.8093    144.9944\n",
      "4      4       1.0     120.0   -37.8072    144.9941\n",
      "6      3       2.0     245.0   -37.8024    144.9993\n",
      "7      2       1.0     256.0   -37.8060    144.9954\n",
      "Predicted values: [1035000. 1465000. 1600000. 1876000. 1636000.]\n",
      "Actual values 1    1035000.0\n",
      "2    1465000.0\n",
      "4    1600000.0\n",
      "6    1876000.0\n",
      "7    1636000.0\n",
      "Name: Price, dtype: float64\n"
     ]
    }
   ],
   "source": [
    "print(\"Making predictions for these houses:\")\n",
    "print(X.head())\n",
    "print(\"Predicted values: {0}\".format(melbourne_model.predict(X.head())))\n",
    "print(\"Actual values {0}\".format(y.head()))"
   ]
  }
 ],
 "metadata": {
  "interpreter": {
   "hash": "2be5faf79681da6f2a61fdfdd5405d65d042280f7fba6178067603e3a2925119"
  },
  "kernelspec": {
   "display_name": "Python 3.10.1 64-bit",
   "language": "python",
   "name": "python3"
  },
  "language_info": {
   "codemirror_mode": {
    "name": "ipython",
    "version": 3
   },
   "file_extension": ".py",
   "mimetype": "text/x-python",
   "name": "python",
   "nbconvert_exporter": "python",
   "pygments_lexer": "ipython3",
   "version": "3.10.1"
  },
  "orig_nbformat": 4
 },
 "nbformat": 4,
 "nbformat_minor": 2
}
